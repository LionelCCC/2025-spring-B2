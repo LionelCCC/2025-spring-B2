{
 "cells": [
  {
   "cell_type": "markdown",
   "id": "5190b54c-d49c-4d6f-80cc-22555336a9cd",
   "metadata": {},
   "source": [
    "# Week 2 - Preprocessing, part 2\n",
    "\n",
    "# 1. Lesson: None"
   ]
  },
  {
   "cell_type": "markdown",
   "id": "47c4e5ff-b05f-4ef2-96f1-49dcb5beb158",
   "metadata": {},
   "source": [
    "# 2. Weekly graph question"
   ]
  },
  {
   "cell_type": "markdown",
   "id": "aad37e29-6e84-41fa-886d-abc1312213ab",
   "metadata": {},
   "source": [
    "The Storytelling With Data book mentions planning on a \"Who, What, and How\" for your data story.  Write down a possible Who, What, and How for your data, using the ideas in the book."
   ]
  },
  {
   "cell_type": "markdown",
   "id": "70cd802c",
   "metadata": {},
   "source": [
    "### **Who, What, and How for the Data Story**\n",
    "\n",
    "#### **Who**  \n",
    "The audience for this data story is **team leads or executives in charge of customer retention initiatives**. This includes decision-makers responsible for allocating resources to reduce customer churn and those who rely on data-driven insights to make strategic decisions.\n",
    "\n",
    "#### **What**  \n",
    "The objective is to **highlight the key drivers of customer churn** and provide actionable recommendations. The goal is for the audience to **understand the reasons behind churn and approve predictive strategies or interventions** to mitigate it.\n",
    "\n",
    "#### **How**  \n",
    "Leverage historical customer data segmented by behavioral patterns, product usage, and demographics to create a compelling narrative. Use data visualizations and predictive modeling to emphasize critical insights, such as:\n",
    "- **Churn Trends**: Use a line chart to show churn rates over time.\n",
    "- **Key Drivers**: Highlight correlations between churn and specific factors (e.g., demographics, product usage) using heatmaps or bar charts.\n",
    "- **Predictive Insights**: Demonstrate the effectiveness of a predictive churn model and simulate the impact of proposed interventions.\n",
    "\n",
    "The combination of clear visuals and actionable insights will help the audience make informed decisions.\n"
   ]
  },
  {
   "cell_type": "markdown",
   "id": "898eb327-aefd-4ac0-b95a-92b616a2181b",
   "metadata": {},
   "source": [
    "# 3. Homework - work with your own data"
   ]
  },
  {
   "cell_type": "code",
   "execution_count": 33,
   "id": "fe925521-979f-4983-8d85-8db8d1316e99",
   "metadata": {},
   "outputs": [],
   "source": [
    "import pandas as pd\n",
    "import numpy as np\n",
    "from datetime import datetime, timedelta\n",
    "import kagglehub\n",
    "import os\n",
    "import matplotlib.pyplot as plt\n"
   ]
  },
  {
   "cell_type": "markdown",
   "id": "14836788-b235-4cd4-b94d-5f749c6141a8",
   "metadata": {},
   "source": [
    "This week, you will do the same types of exercises as last week, but you should use your own datasets that you found last semester.\n",
    "\n",
    "### Here are some types of analysis you can do  Use Google, documentation, and ChatGPT to help you:\n",
    "\n",
    "- Summarize the datasets using info() and describe()\n",
    "\n",
    "- Are there any duplicate rows?\n",
    "\n",
    "- Are there any duplicate values in a given column (when this would be inappropriate?)\n",
    "\n",
    "- What are the mean, median, and mode of each column?\n",
    "\n",
    "- Are there any missing or null values?\n",
    "\n",
    "    - Do you want to fill in the missing value with a mean value?  A value of your choice?  Remove that row?\n",
    "\n",
    "- Identify any other inconsistent data (e.g. someone seems to be taking an action before they are born.)\n",
    "\n",
    "- Encode any categorical variables (e.g. with one-hot encoding.)\n",
    "\n",
    "### Conclusions:\n",
    "\n",
    "- Are the data usable?  If not, find some new data!\n",
    "\n",
    "- Do you need to modify or correct the data in some way?\n",
    "\n",
    "- Is there any class imbalance?  (Categories that have many more items than other categories)."
   ]
  },
  {
   "cell_type": "code",
   "execution_count": 9,
   "id": "2d9fbb6f",
   "metadata": {},
   "outputs": [
    {
     "name": "stdout",
     "output_type": "stream",
     "text": [
      "Path to dataset files: /home/codespace/.cache/kagglehub/datasets/shubhammeshram579/bank-customer-churn-prediction/versions/1\n",
      "Files in dataset directory: ['Churn_Modelling.csv']\n"
     ]
    }
   ],
   "source": [
    "# Download latest version\n",
    "path = kagglehub.dataset_download(\"shubhammeshram579/bank-customer-churn-prediction\")\n",
    "\n",
    "print(\"Path to dataset files:\", path)\n",
    "dataset_path = \"/home/codespace/.cache/kagglehub/datasets/shubhammeshram579/bank-customer-churn-prediction/versions/1\"\n",
    "print(\"Files in dataset directory:\", os.listdir(dataset_path))\n",
    "\n",
    "file_path = os.path.join(dataset_path, \"Churn_Modelling.csv\")  #\n",
    "data = pd.read_csv(file_path)"
   ]
  },
  {
   "cell_type": "code",
   "execution_count": 10,
   "id": "d0076c15",
   "metadata": {},
   "outputs": [
    {
     "name": "stdout",
     "output_type": "stream",
     "text": [
      "<class 'pandas.core.frame.DataFrame'>\n",
      "RangeIndex: 10002 entries, 0 to 10001\n",
      "Data columns (total 14 columns):\n",
      " #   Column           Non-Null Count  Dtype  \n",
      "---  ------           --------------  -----  \n",
      " 0   RowNumber        10002 non-null  int64  \n",
      " 1   CustomerId       10002 non-null  int64  \n",
      " 2   Surname          10002 non-null  object \n",
      " 3   CreditScore      10002 non-null  int64  \n",
      " 4   Geography        10001 non-null  object \n",
      " 5   Gender           10002 non-null  object \n",
      " 6   Age              10001 non-null  float64\n",
      " 7   Tenure           10002 non-null  int64  \n",
      " 8   Balance          10002 non-null  float64\n",
      " 9   NumOfProducts    10002 non-null  int64  \n",
      " 10  HasCrCard        10001 non-null  float64\n",
      " 11  IsActiveMember   10001 non-null  float64\n",
      " 12  EstimatedSalary  10002 non-null  float64\n",
      " 13  Exited           10002 non-null  int64  \n",
      "dtypes: float64(5), int64(6), object(3)\n",
      "memory usage: 1.1+ MB\n"
     ]
    },
    {
     "data": {
      "text/html": [
       "<div>\n",
       "<style scoped>\n",
       "    .dataframe tbody tr th:only-of-type {\n",
       "        vertical-align: middle;\n",
       "    }\n",
       "\n",
       "    .dataframe tbody tr th {\n",
       "        vertical-align: top;\n",
       "    }\n",
       "\n",
       "    .dataframe thead th {\n",
       "        text-align: right;\n",
       "    }\n",
       "</style>\n",
       "<table border=\"1\" class=\"dataframe\">\n",
       "  <thead>\n",
       "    <tr style=\"text-align: right;\">\n",
       "      <th></th>\n",
       "      <th>RowNumber</th>\n",
       "      <th>CustomerId</th>\n",
       "      <th>CreditScore</th>\n",
       "      <th>Age</th>\n",
       "      <th>Tenure</th>\n",
       "      <th>Balance</th>\n",
       "      <th>NumOfProducts</th>\n",
       "      <th>HasCrCard</th>\n",
       "      <th>IsActiveMember</th>\n",
       "      <th>EstimatedSalary</th>\n",
       "      <th>Exited</th>\n",
       "    </tr>\n",
       "  </thead>\n",
       "  <tbody>\n",
       "    <tr>\n",
       "      <th>count</th>\n",
       "      <td>10002.000000</td>\n",
       "      <td>1.000200e+04</td>\n",
       "      <td>10002.000000</td>\n",
       "      <td>10001.000000</td>\n",
       "      <td>10002.000000</td>\n",
       "      <td>10002.000000</td>\n",
       "      <td>10002.000000</td>\n",
       "      <td>10001.000000</td>\n",
       "      <td>10001.000000</td>\n",
       "      <td>10002.000000</td>\n",
       "      <td>10002.000000</td>\n",
       "    </tr>\n",
       "    <tr>\n",
       "      <th>mean</th>\n",
       "      <td>5001.499600</td>\n",
       "      <td>1.569093e+07</td>\n",
       "      <td>650.555089</td>\n",
       "      <td>38.922311</td>\n",
       "      <td>5.012498</td>\n",
       "      <td>76491.112875</td>\n",
       "      <td>1.530194</td>\n",
       "      <td>0.705529</td>\n",
       "      <td>0.514949</td>\n",
       "      <td>100083.331145</td>\n",
       "      <td>0.203759</td>\n",
       "    </tr>\n",
       "    <tr>\n",
       "      <th>std</th>\n",
       "      <td>2887.472338</td>\n",
       "      <td>7.193177e+04</td>\n",
       "      <td>96.661615</td>\n",
       "      <td>10.487200</td>\n",
       "      <td>2.891973</td>\n",
       "      <td>62393.474144</td>\n",
       "      <td>0.581639</td>\n",
       "      <td>0.455827</td>\n",
       "      <td>0.499801</td>\n",
       "      <td>57508.117802</td>\n",
       "      <td>0.402812</td>\n",
       "    </tr>\n",
       "    <tr>\n",
       "      <th>min</th>\n",
       "      <td>1.000000</td>\n",
       "      <td>1.556570e+07</td>\n",
       "      <td>350.000000</td>\n",
       "      <td>18.000000</td>\n",
       "      <td>0.000000</td>\n",
       "      <td>0.000000</td>\n",
       "      <td>1.000000</td>\n",
       "      <td>0.000000</td>\n",
       "      <td>0.000000</td>\n",
       "      <td>11.580000</td>\n",
       "      <td>0.000000</td>\n",
       "    </tr>\n",
       "    <tr>\n",
       "      <th>25%</th>\n",
       "      <td>2501.250000</td>\n",
       "      <td>1.562852e+07</td>\n",
       "      <td>584.000000</td>\n",
       "      <td>32.000000</td>\n",
       "      <td>3.000000</td>\n",
       "      <td>0.000000</td>\n",
       "      <td>1.000000</td>\n",
       "      <td>0.000000</td>\n",
       "      <td>0.000000</td>\n",
       "      <td>50983.750000</td>\n",
       "      <td>0.000000</td>\n",
       "    </tr>\n",
       "    <tr>\n",
       "      <th>50%</th>\n",
       "      <td>5001.500000</td>\n",
       "      <td>1.569073e+07</td>\n",
       "      <td>652.000000</td>\n",
       "      <td>37.000000</td>\n",
       "      <td>5.000000</td>\n",
       "      <td>97198.540000</td>\n",
       "      <td>1.000000</td>\n",
       "      <td>1.000000</td>\n",
       "      <td>1.000000</td>\n",
       "      <td>100185.240000</td>\n",
       "      <td>0.000000</td>\n",
       "    </tr>\n",
       "    <tr>\n",
       "      <th>75%</th>\n",
       "      <td>7501.750000</td>\n",
       "      <td>1.575323e+07</td>\n",
       "      <td>718.000000</td>\n",
       "      <td>44.000000</td>\n",
       "      <td>7.000000</td>\n",
       "      <td>127647.840000</td>\n",
       "      <td>2.000000</td>\n",
       "      <td>1.000000</td>\n",
       "      <td>1.000000</td>\n",
       "      <td>149383.652500</td>\n",
       "      <td>0.000000</td>\n",
       "    </tr>\n",
       "    <tr>\n",
       "      <th>max</th>\n",
       "      <td>10000.000000</td>\n",
       "      <td>1.581569e+07</td>\n",
       "      <td>850.000000</td>\n",
       "      <td>92.000000</td>\n",
       "      <td>10.000000</td>\n",
       "      <td>250898.090000</td>\n",
       "      <td>4.000000</td>\n",
       "      <td>1.000000</td>\n",
       "      <td>1.000000</td>\n",
       "      <td>199992.480000</td>\n",
       "      <td>1.000000</td>\n",
       "    </tr>\n",
       "  </tbody>\n",
       "</table>\n",
       "</div>"
      ],
      "text/plain": [
       "          RowNumber    CustomerId   CreditScore           Age        Tenure  \\\n",
       "count  10002.000000  1.000200e+04  10002.000000  10001.000000  10002.000000   \n",
       "mean    5001.499600  1.569093e+07    650.555089     38.922311      5.012498   \n",
       "std     2887.472338  7.193177e+04     96.661615     10.487200      2.891973   \n",
       "min        1.000000  1.556570e+07    350.000000     18.000000      0.000000   \n",
       "25%     2501.250000  1.562852e+07    584.000000     32.000000      3.000000   \n",
       "50%     5001.500000  1.569073e+07    652.000000     37.000000      5.000000   \n",
       "75%     7501.750000  1.575323e+07    718.000000     44.000000      7.000000   \n",
       "max    10000.000000  1.581569e+07    850.000000     92.000000     10.000000   \n",
       "\n",
       "             Balance  NumOfProducts     HasCrCard  IsActiveMember  \\\n",
       "count   10002.000000   10002.000000  10001.000000    10001.000000   \n",
       "mean    76491.112875       1.530194      0.705529        0.514949   \n",
       "std     62393.474144       0.581639      0.455827        0.499801   \n",
       "min         0.000000       1.000000      0.000000        0.000000   \n",
       "25%         0.000000       1.000000      0.000000        0.000000   \n",
       "50%     97198.540000       1.000000      1.000000        1.000000   \n",
       "75%    127647.840000       2.000000      1.000000        1.000000   \n",
       "max    250898.090000       4.000000      1.000000        1.000000   \n",
       "\n",
       "       EstimatedSalary        Exited  \n",
       "count     10002.000000  10002.000000  \n",
       "mean     100083.331145      0.203759  \n",
       "std       57508.117802      0.402812  \n",
       "min          11.580000      0.000000  \n",
       "25%       50983.750000      0.000000  \n",
       "50%      100185.240000      0.000000  \n",
       "75%      149383.652500      0.000000  \n",
       "max      199992.480000      1.000000  "
      ]
     },
     "execution_count": 10,
     "metadata": {},
     "output_type": "execute_result"
    }
   ],
   "source": [
    "data.head()\n",
    "data.info()\n",
    "data.describe()"
   ]
  },
  {
   "cell_type": "code",
   "execution_count": 15,
   "id": "32797c52",
   "metadata": {},
   "outputs": [
    {
     "name": "stdout",
     "output_type": "stream",
     "text": [
      "Number of duplicate rows: 2\n",
      "Number of duplicate customer ids: 2\n",
      "Duplicate rows:\n",
      "       RowNumber  CustomerId    Surname  CreditScore Geography  Gender   Age  \\\n",
      "9999        9999    15682355  Sabbatini          772   Germany    Male  42.0   \n",
      "10001      10000    15628319     Walker          792    France  Female  28.0   \n",
      "\n",
      "       Tenure    Balance  NumOfProducts  HasCrCard  IsActiveMember  \\\n",
      "9999        3   75075.31              2        1.0             0.0   \n",
      "10001       4  130142.79              1        1.0             0.0   \n",
      "\n",
      "       EstimatedSalary  Exited  \n",
      "9999          92888.52       1  \n",
      "10001         38190.78       0  \n"
     ]
    }
   ],
   "source": [
    "# check duplicates\n",
    "\n",
    "dups = data.duplicated()\n",
    "print(f\"Number of duplicate rows: {dups.sum()}\")\n",
    "\n",
    "#Inappropriate as customer IDs should be unique\n",
    "dups_customerid = data['CustomerId'].duplicated()\n",
    "print(f\"Number of duplicate customer ids: {dups_customerid.sum()}\")\n",
    "\n",
    "# Display duplicate rows\n",
    "duplicate_rows = data[data.duplicated()]\n",
    "print(\"Duplicate rows:\")\n",
    "print(duplicate_rows)\n",
    "\n"
   ]
  },
  {
   "cell_type": "code",
   "execution_count": 21,
   "id": "916777cc",
   "metadata": {},
   "outputs": [
    {
     "name": "stdout",
     "output_type": "stream",
     "text": [
      "Mean values:\n",
      " RowNumber          5.001500e+03\n",
      "CustomerId         1.569093e+07\n",
      "CreditScore        6.505551e+02\n",
      "Age                3.892231e+01\n",
      "Tenure             5.012498e+00\n",
      "Balance            7.649111e+04\n",
      "NumOfProducts      1.530194e+00\n",
      "HasCrCard          7.055294e-01\n",
      "IsActiveMember     5.149485e-01\n",
      "EstimatedSalary    1.000833e+05\n",
      "Exited             2.037592e-01\n",
      "dtype: float64\n",
      "\n",
      "Median values:\n",
      " RowNumber              5001.50\n",
      "CustomerId         15690732.00\n",
      "CreditScore             652.00\n",
      "Age                      37.00\n",
      "Tenure                    5.00\n",
      "Balance               97198.54\n",
      "NumOfProducts             1.00\n",
      "HasCrCard                 1.00\n",
      "IsActiveMember            1.00\n",
      "EstimatedSalary      100185.24\n",
      "Exited                    0.00\n",
      "dtype: float64\n",
      "\n",
      "Mode values:\n",
      " RowNumber              9999.0\n",
      "CustomerId         15628319.0\n",
      "Surname                 Smith\n",
      "CreditScore             850.0\n",
      "Geography              France\n",
      "Gender                   Male\n",
      "Age                      37.0\n",
      "Tenure                    2.0\n",
      "Balance                   0.0\n",
      "NumOfProducts             1.0\n",
      "HasCrCard                 1.0\n",
      "IsActiveMember            1.0\n",
      "EstimatedSalary      24924.92\n",
      "Exited                    0.0\n",
      "Name: 0, dtype: object\n"
     ]
    }
   ],
   "source": [
    "# mean median and mode for nuemric columsn\n",
    "\n",
    "mean_vals = data.mean(numeric_only=True)\n",
    "median_vals = data.median(numeric_only=True)\n",
    "mode_vals = data.mode().iloc[0]\n",
    "\n",
    "print(\"Mean values:\\n\", mean_vals)\n",
    "print(\"\\nMedian values:\\n\", median_vals)\n",
    "print(\"\\nMode values:\\n\", mode_vals) #very unlikely to have mode values\n"
   ]
  },
  {
   "cell_type": "code",
   "execution_count": 22,
   "id": "1a3dd304",
   "metadata": {},
   "outputs": [
    {
     "name": "stdout",
     "output_type": "stream",
     "text": [
      "\n",
      "Missing values per column:\n",
      " RowNumber          0\n",
      "CustomerId         0\n",
      "Surname            0\n",
      "CreditScore        0\n",
      "Geography          1\n",
      "Gender             0\n",
      "Age                1\n",
      "Tenure             0\n",
      "Balance            0\n",
      "NumOfProducts      0\n",
      "HasCrCard          1\n",
      "IsActiveMember     1\n",
      "EstimatedSalary    0\n",
      "Exited             0\n",
      "dtype: int64\n"
     ]
    }
   ],
   "source": [
    "# check for missing or null vals\n",
    "\n",
    "missing_vals = data.isnull().sum()\n",
    "print(\"\\nMissing values per column:\\n\", missing_vals)\n"
   ]
  },
  {
   "cell_type": "code",
   "execution_count": 26,
   "id": "612cc530",
   "metadata": {},
   "outputs": [
    {
     "name": "stdout",
     "output_type": "stream",
     "text": [
      "\n",
      "Missing values per column:\n",
      " RowNumber          0\n",
      "CustomerId         0\n",
      "Surname            0\n",
      "CreditScore        0\n",
      "Geography          0\n",
      "Gender             0\n",
      "Age                0\n",
      "Tenure             0\n",
      "Balance            0\n",
      "NumOfProducts      0\n",
      "HasCrCard          0\n",
      "IsActiveMember     0\n",
      "EstimatedSalary    0\n",
      "Exited             0\n",
      "dtype: int64\n"
     ]
    }
   ],
   "source": [
    "# Drop missing vals:\n",
    "data.dropna(inplace=True)\n",
    "missing_vals = data.isnull().sum()\n",
    "print(\"\\nMissing values per column:\\n\", missing_vals)\n"
   ]
  },
  {
   "cell_type": "code",
   "execution_count": 28,
   "id": "45aed1b4",
   "metadata": {},
   "outputs": [
    {
     "name": "stdout",
     "output_type": "stream",
     "text": [
      "\n",
      "Rows with negative values:\n",
      " Empty DataFrame\n",
      "Columns: [RowNumber, CustomerId, Surname, CreditScore, Geography, Gender, Age, Tenure, Balance, NumOfProducts, HasCrCard, IsActiveMember, EstimatedSalary, Exited]\n",
      "Index: []\n",
      "\n",
      "Rows with unrealistic ages:\n",
      " Empty DataFrame\n",
      "Columns: [RowNumber, CustomerId, Surname, CreditScore, Geography, Gender, Age, Tenure, Balance, NumOfProducts, HasCrCard, IsActiveMember, EstimatedSalary, Exited]\n",
      "Index: []\n"
     ]
    }
   ],
   "source": [
    "#Check for inconsisten vals:\n",
    "\n",
    "negative_values = data[(data['Balance'] < 0) | (data['Age'] < 0)]\n",
    "print(\"\\nRows with negative values:\\n\", negative_values)\n",
    "\n",
    "# Check for ages over 120 (unlikely in this context)\n",
    "unrealistic_ages = data[data['Age'] > 120]\n",
    "print(\"\\nRows with unrealistic ages:\\n\", unrealistic_ages)"
   ]
  },
  {
   "cell_type": "code",
   "execution_count": 30,
   "id": "a5f0e936",
   "metadata": {},
   "outputs": [
    {
     "name": "stdout",
     "output_type": "stream",
     "text": [
      "\n",
      "Data after encoding:\n",
      "    RowNumber  CustomerId   Surname  CreditScore   Age  Tenure    Balance  \\\n",
      "0          1    15634602  Hargrave          619  42.0       2       0.00   \n",
      "1          2    15647311      Hill          608  41.0       1   83807.86   \n",
      "2          3    15619304      Onio          502  42.0       8  159660.80   \n",
      "3          4    15701354      Boni          699  39.0       1       0.00   \n",
      "5          6    15574012       Chu          645  44.0       8  113755.78   \n",
      "\n",
      "   NumOfProducts  HasCrCard  IsActiveMember  EstimatedSalary  Exited  \\\n",
      "0              1        1.0             1.0        101348.88       1   \n",
      "1              1        0.0             1.0        112542.58       0   \n",
      "2              3        1.0             0.0        113931.57       1   \n",
      "3              2        0.0             0.0         93826.63       0   \n",
      "5              2        1.0             0.0        149756.71       1   \n",
      "\n",
      "   Geography_Germany  Geography_Spain  Gender_Male  \n",
      "0              False            False        False  \n",
      "1              False             True        False  \n",
      "2              False            False        False  \n",
      "3              False            False        False  \n",
      "5              False             True         True  \n",
      "Final dataset shape: (9998, 15)\n"
     ]
    }
   ],
   "source": [
    "# encode geography and gender\n",
    "\n",
    "data_encoded = pd.get_dummies(data, columns=['Geography', 'Gender'], drop_first=True)\n",
    "print(\"\\nData after encoding:\\n\", data_encoded.head())\n",
    "print(\"Final dataset shape:\", data_encoded.shape)\n"
   ]
  },
  {
   "cell_type": "markdown",
   "id": "34836e06",
   "metadata": {},
   "source": [
    "### Is the Data Usable?\n",
    "- Yes, the final dataset has a shape of `(9998, 15)` with no missing values, and all categorical values have been encoded.\n",
    "\n",
    "### Do You Need to Modify or Correct the Data?\n",
    "- Further modifications or corrections may be necessary depending on the specific question being addressed.\n",
    "  - If we focus on churn prediction, we might prioritize features that correlate strongly with the `Exited` column.\n",
    "  - Additional feature engineering may be needed, such as combining or encoding features, based on the requirements of the analysis.\n"
   ]
  },
  {
   "cell_type": "code",
   "execution_count": 31,
   "id": "2e7258fc",
   "metadata": {},
   "outputs": [
    {
     "name": "stdout",
     "output_type": "stream",
     "text": [
      "\n",
      "Class distribution:\n",
      " Exited\n",
      "0    7960\n",
      "1    2038\n",
      "Name: count, dtype: int64\n",
      "\n",
      "Class percentages:\n",
      " Exited\n",
      "0    79.615923\n",
      "1    20.384077\n",
      "Name: count, dtype: float64\n"
     ]
    }
   ],
   "source": [
    "# Check class distribution for target variable\n",
    "class_counts = data_encoded['Exited'].value_counts()\n",
    "print(\"\\nClass distribution:\\n\", class_counts)\n",
    "\n",
    "# Class percentages\n",
    "class_percentages = class_counts / len(data_encoded) * 100\n",
    "print(\"\\nClass percentages:\\n\", class_percentages)\n"
   ]
  },
  {
   "cell_type": "markdown",
   "id": "9831dbf2",
   "metadata": {},
   "source": [
    "### Class Imbalance?\n",
    "- There is a noticeable class imbalance, with **79.6% of customers not exiting** and only **20.4% exiting**. This imbalance might need to be addressed depending on the analysis goals"
   ]
  },
  {
   "cell_type": "markdown",
   "id": "abab9e6d-18cc-4863-b980-3e52f581763a",
   "metadata": {},
   "source": [
    "# 4. Storytelling With Data graph"
   ]
  },
  {
   "cell_type": "markdown",
   "id": "1911148d-9df6-4b33-a875-8c96408ec834",
   "metadata": {},
   "source": [
    "Just like last week: choose any graph in the Introduction of Storytelling With Data. Use matplotlib to reproduce it in a rough way. I don't expect you to spend an enormous amount of time on this; I understand that you likely will not have time to re-create every feature of the graph. However, if you're excited about learning to use matplotlib, this is a good way to do that. You don't have to duplicate the exact values on the graph; just the same rough shape will be enough.  If you don't feel comfortable using matplotlib yet, do the best you can and write down what you tried or what Google searches you did to find the answers."
   ]
  },
  {
   "cell_type": "code",
   "execution_count": 38,
   "id": "8b2888f9-3700-45ab-9829-6a5372106f9f",
   "metadata": {},
   "outputs": [
    {
     "data": {
      "image/png": "[encoded data removed]",
      "text/plain": [
       "<Figure size 800x400 with 1 Axes>"
      ]
     },
     "metadata": {},
     "output_type": "display_data"
    }
   ],
   "source": [
    "# data entries\n",
    "months = [\"January\", \"February\", \"March\", \"April\", \"May\", \"June\", \"July\", \"August\", \n",
    "          \"September\", \"October\", \"November\", \"December\"]\n",
    "ticket_received = [160, 184, 241, 149, 181, 160, 202, 156, 160, 138, 149, 177]\n",
    "ticket_processed = [160, 180, 237, 148, 161, 123, 123, 123, 126, 104, 124, 40]\n",
    "bar_width = 0.35\n",
    "x = np.arange(len(months))\n",
    "fig, ax = plt.subplots(figsize=(8,4))\n",
    "\n",
    "bars1 = ax.bar(x - bar_width/2, ticket_received, bar_width, label=\"Ticket Volume Received\", color='blue', alpha=0.7)\n",
    "bars2 = ax.bar(x + bar_width/2, ticket_processed, bar_width, label=\"Ticket Volume Processed\", color='red', alpha=0.7)\n",
    "\n",
    "for bar in bars1:\n",
    "    ax.text(bar.get_x() + bar.get_width()/2, bar.get_height(), f\"{int(bar.get_height())}\", \n",
    "            ha='center', va='bottom', fontsize=10, color='black')\n",
    "\n",
    "for bar in bars2:\n",
    "    ax.text(bar.get_x() + bar.get_width()/2, bar.get_height(), f\"{int(bar.get_height())}\", \n",
    "            ha='center', va='bottom', fontsize=10, color='black')\n",
    "ax.set_xlabel(\"Months\")\n",
    "ax.set_ylabel(\"Ticket Volume\")\n",
    "ax.set_title(\"Ticket Trend\")\n",
    "ax.set_xticks(x)\n",
    "ax.set_xticklabels(months, rotation=45, ha=\"right\")  \n",
    "ax.legend()\n",
    "\n",
    "ax.yaxis.grid(True, linestyle=\"--\", alpha=0.7)\n",
    "plt.tight_layout()\n",
    "plt.show()\n",
    "\n"
   ]
  }
 ],
 "metadata": {
  "kernelspec": {
   "display_name": "Python 3",
   "language": "python",
   "name": "python3"
  },
  "language_info": {
   "codemirror_mode": {
    "name": "ipython",
    "version": 3
   },
   "file_extension": ".py",
   "mimetype": "text/x-python",
   "name": "python",
   "nbconvert_exporter": "python",
   "pygments_lexer": "ipython3",
   "version": "3.12.1"
  }
 },
 "nbformat": 4,
 "nbformat_minor": 5
}
